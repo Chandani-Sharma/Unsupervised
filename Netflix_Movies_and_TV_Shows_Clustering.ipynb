{
  "nbformat": 4,
  "nbformat_minor": 0,
  "metadata": {
    "colab": {
      "provenance": [],
      "collapsed_sections": [
        "vncDsAP0Gaoa",
        "FJNUwmbgGyua",
        "w6K7xa23Elo4",
        "yQaldy8SH6Dl",
        "mDgbUHAGgjLW",
        "O_i_v8NEhb9l",
        "HhfV-JJviCcP",
        "Y3lxredqlCYt",
        "3RnN4peoiCZX",
        "x71ZqKXriCWQ",
        "7hBIi_osiCS2",
        "JlHwYmJAmNHm",
        "35m5QtbWiB9F",
        "PoPl-ycgm1ru",
        "H0kj-8xxnORC",
        "nA9Y7ga8ng1Z",
        "PBTbrJXOngz2",
        "u3PMJOP6ngxN",
        "dauF4eBmngu3",
        "bKJF3rekwFvQ",
        "MSa1f5Uengrz",
        "GF8Ens_Soomf",
        "0wOQAZs5pc--",
        "K5QZ13OEpz2H",
        "lQ7QKXXCp7Bj",
        "448CDAPjqfQr",
        "KSlN3yHqYklG",
        "t6dVpIINYklI",
        "ijmpgYnKYklI",
        "-JiQyfWJYklI",
        "EM7whBJCYoAo",
        "fge-S5ZAYoAp",
        "85gYPyotYoAp",
        "RoGjAbkUYoAp",
        "4Of9eVA-YrdM",
        "iky9q4vBYrdO",
        "F6T5p64dYrdO",
        "y-Ehk30pYrdP",
        "bamQiAODYuh1",
        "QHF8YVU7Yuh3",
        "GwzvFGzlYuh3",
        "qYpmQ266Yuh3",
        "OH-pJp9IphqM",
        "bbFf2-_FphqN",
        "_ouA3fa0phqN",
        "Seke61FWphqN",
        "PIIx-8_IphqN",
        "t27r6nlMphqO",
        "r2jJGEOYphqO",
        "b0JNsNcRphqO",
        "BZR9WyysphqO",
        "jj7wYXLtphqO",
        "eZrbJ2SmphqO",
        "rFu4xreNphqO",
        "YJ55k-q6phqO",
        "gCFgpxoyphqP",
        "OVtJsKN_phqQ",
        "lssrdh5qphqQ",
        "U2RJ9gkRphqQ",
        "1M8mcRywphqQ",
        "tgIPom80phqQ",
        "JMzcOPDDphqR",
        "x-EpHcCOp1ci",
        "X_VqEhTip1ck",
        "8zGJKyg5p1ck",
        "PVzmfK_Ep1ck",
        "n3dbpmDWp1ck",
        "ylSl6qgtp1ck",
        "ZWILFDl5p1ck",
        "M7G43BXep1ck",
        "Ag9LCva-p1cl",
        "E6MkPsBcp1cl",
        "2cELzS2fp1cl",
        "3MPXvC8up1cl",
        "NC_X3p0fY2L0",
        "UV0SzAkaZNRQ",
        "YPEH6qLeZNRQ",
        "q29F0dvdveiT",
        "EXh0U9oCveiU",
        "22aHeOlLveiV",
        "g-ATYxFrGrvw",
        "Yfr_Vlr8HBkt",
        "8yEUt7NnHlrM",
        "tEA2Xm5dHt1r",
        "I79__PHVH19G",
        "Ou-I18pAyIpj",
        "fF3858GYyt-u",
        "4_0_7-oCpUZd",
        "hwyV_J3ipUZe",
        "3yB-zSqbpUZe",
        "dEUvejAfpUZe",
        "Fd15vwWVpUZf",
        "bn_IUdTipZyH",
        "49K5P_iCpZyH",
        "Nff-vKELpZyI",
        "kLW572S8pZyI",
        "dWbDXHzopZyI",
        "yLjJCtPM0KBk",
        "xiyOF9F70UgQ",
        "7wuGOrhz0itI",
        "id1riN9m0vUs",
        "578E2V7j08f6",
        "89xtkJwZ18nB",
        "67NQN5KX2AMe",
        "Iwf50b-R2tYG",
        "GMQiZwjn3iu7",
        "WVIkgGqN3qsr",
        "XkPnILGE3zoT",
        "Hlsf0x5436Go",
        "mT9DMSJo4nBL",
        "c49ITxTc407N",
        "OeJFEK0N496M",
        "9ExmJH0g5HBk",
        "cJNqERVU536h",
        "k5UmGsbsOxih",
        "T0VqWOYE6DLQ",
        "qBMux9mC6MCf",
        "-oLEiFgy-5Pf",
        "C74aWNz2AliB",
        "2DejudWSA-a0",
        "pEMng2IbBLp7",
        "rAdphbQ9Bhjc",
        "TNVZ9zx19K6k",
        "nqoHp30x9hH9",
        "rMDnDkt2B6du",
        "yiiVWRdJDDil",
        "1UUpS68QDMuG",
        "kexQrXU-DjzY",
        "T5CmagL3EC8N",
        "BhH2vgX9EjGr",
        "qjKvONjwE8ra",
        "P1XJ9OREExlT",
        "VFOzZv6IFROw",
        "TIqpNgepFxVj",
        "VfCC591jGiD4",
        "OB4l2ZhMeS1U",
        "ArJBuiUVfxKd",
        "4qY1EAkEfxKe",
        "PiV4Ypx8fxKe",
        "TfvqoZmBfxKf",
        "dJ2tPlVmpsJ0",
        "JWYfwnehpsJ1",
        "-jK_YjpMpsJ2",
        "HAih1iBOpsJ2",
        "zVGeBEFhpsJ2",
        "bmKjuQ-FpsJ3",
        "Fze-IPXLpx6K",
        "7AN1z2sKpx6M",
        "9PIHJqyupx6M",
        "_-qAgymDpx6N",
        "Z-hykwinpx6N",
        "h_CCil-SKHpo",
        "cBFFvTBNJzUa",
        "HvGl1hHyA_VK",
        "EyNgTHvd2WFk",
        "KH5McJBi2d8v",
        "iW_Lq9qf2h6X",
        "-Kee-DAl2viO",
        "gCX9965dhzqZ",
        "gIfDvo9L0UH2"
      ],
      "include_colab_link": true
    },
    "kernelspec": {
      "name": "python3",
      "display_name": "Python 3"
    },
    "language_info": {
      "name": "python"
    },
    "gpuClass": "standard"
  },
  "cells": [
    {
      "cell_type": "markdown",
      "metadata": {
        "id": "view-in-github",
        "colab_type": "text"
      },
      "source": [
        "<a href=\"https://colab.research.google.com/github/Chandani-Sharma/Unsupervised/blob/main/Netflix_Movies_and_TV_Shows_Clustering.ipynb\" target=\"_parent\"><img src=\"https://colab.research.google.com/assets/colab-badge.svg\" alt=\"Open In Colab\"/></a>"
      ]
    },
    {
      "cell_type": "markdown",
      "source": [
        "# **Project Name**    - Netflix Movies and TV Shows: Clustering\n",
        "\n"
      ],
      "metadata": {
        "id": "vncDsAP0Gaoa"
      }
    },
    {
      "cell_type": "markdown",
      "source": [
        "##### **Project Type**    - Unsupervised\n",
        "##### **Contribution**    - Individual (Chandani Kumari)\n",
        "![images.jpg](data:image/jpeg;base64,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)"
      ],
      "metadata": {
        "id": "beRrZCGUAJYm"
      }
    },
    {
      "cell_type": "markdown",
      "source": [
        "# **Project Summary -**"
      ],
      "metadata": {
        "id": "FJNUwmbgGyua"
      }
    },
    {
      "cell_type": "markdown",
      "source": [
        "Write the summary here within 500-600 words."
      ],
      "metadata": {
        "id": "F6v_1wHtG2nS"
      }
    },
    {
      "cell_type": "markdown",
      "source": [
        "# **GitHub Link -**"
      ],
      "metadata": {
        "id": "w6K7xa23Elo4"
      }
    },
    {
      "cell_type": "markdown",
      "source": [
        "Provide your GitHub Link here."
      ],
      "metadata": {
        "id": "h1o69JH3Eqqn"
      }
    },
    {
      "cell_type": "markdown",
      "source": [
        "# **Problem Statement**\n"
      ],
      "metadata": {
        "id": "yQaldy8SH6Dl"
      }
    },
    {
      "cell_type": "markdown",
      "source": [
        "**Write Problem Statement Here.**"
      ],
      "metadata": {
        "id": "DpeJGUA3kjGy"
      }
    },
    {
      "cell_type": "markdown",
      "source": [
        "# ***Let's Begin !***"
      ],
      "metadata": {
        "id": "O_i_v8NEhb9l"
      }
    },
    {
      "cell_type": "markdown",
      "source": [
        "## ***1. Know Your Data***"
      ],
      "metadata": {
        "id": "HhfV-JJviCcP"
      }
    },
    {
      "cell_type": "markdown",
      "source": [
        "### Import Libraries"
      ],
      "metadata": {
        "id": "Y3lxredqlCYt"
      }
    },
    {
      "cell_type": "code",
      "source": [
        "# Import Libraries"
      ],
      "metadata": {
        "id": "M8Vqi-pPk-HR"
      },
      "execution_count": null,
      "outputs": []
    },
    {
      "cell_type": "markdown",
      "source": [
        "### Dataset Loading"
      ],
      "metadata": {
        "id": "3RnN4peoiCZX"
      }
    },
    {
      "cell_type": "code",
      "source": [
        "# Load Dataset"
      ],
      "metadata": {
        "id": "4CkvbW_SlZ_R"
      },
      "execution_count": null,
      "outputs": []
    },
    {
      "cell_type": "markdown",
      "source": [
        "### Dataset First View"
      ],
      "metadata": {
        "id": "x71ZqKXriCWQ"
      }
    },
    {
      "cell_type": "code",
      "source": [
        "# Dataset First Look"
      ],
      "metadata": {
        "id": "LWNFOSvLl09H"
      },
      "execution_count": null,
      "outputs": []
    },
    {
      "cell_type": "markdown",
      "source": [
        "### Dataset Rows & Columns count"
      ],
      "metadata": {
        "id": "7hBIi_osiCS2"
      }
    },
    {
      "cell_type": "code",
      "source": [
        "# Dataset Rows & Columns count"
      ],
      "metadata": {
        "id": "Kllu7SJgmLij"
      },
      "execution_count": null,
      "outputs": []
    },
    {
      "cell_type": "markdown",
      "source": [
        "### Dataset Information"
      ],
      "metadata": {
        "id": "JlHwYmJAmNHm"
      }
    },
    {
      "cell_type": "code",
      "source": [
        "# Dataset Info"
      ],
      "metadata": {
        "id": "e9hRXRi6meOf"
      },
      "execution_count": null,
      "outputs": []
    },
    {
      "cell_type": "markdown",
      "source": [
        "#### Duplicate Values"
      ],
      "metadata": {
        "id": "35m5QtbWiB9F"
      }
    },
    {
      "cell_type": "code",
      "source": [
        "# Dataset Duplicate Value Count"
      ],
      "metadata": {
        "id": "1sLdpKYkmox0"
      },
      "execution_count": null,
      "outputs": []
    },
    {
      "cell_type": "markdown",
      "source": [
        "#### Missing Values/Null Values"
      ],
      "metadata": {
        "id": "PoPl-ycgm1ru"
      }
    },
    {
      "cell_type": "code",
      "source": [
        "# Missing Values/Null Values Count"
      ],
      "metadata": {
        "id": "GgHWkxvamxVg"
      },
      "execution_count": null,
      "outputs": []
    },
    {
      "cell_type": "code",
      "source": [
        "# Visualizing the missing values"
      ],
      "metadata": {
        "id": "3q5wnI3om9sJ"
      },
      "execution_count": null,
      "outputs": []
    },
    {
      "cell_type": "markdown",
      "source": [
        "### What did you know about your dataset?"
      ],
      "metadata": {
        "id": "H0kj-8xxnORC"
      }
    },
    {
      "cell_type": "markdown",
      "source": [
        "Answer Here"
      ],
      "metadata": {
        "id": "gfoNAAC-nUe_"
      }
    },
    {
      "cell_type": "markdown",
      "source": [
        "## ***2. Understanding Your Variables***"
      ],
      "metadata": {
        "id": "nA9Y7ga8ng1Z"
      }
    },
    {
      "cell_type": "code",
      "source": [
        "# Dataset Columns"
      ],
      "metadata": {
        "id": "j7xfkqrt5Ag5"
      },
      "execution_count": null,
      "outputs": []
    },
    {
      "cell_type": "code",
      "source": [
        "# Dataset Describe"
      ],
      "metadata": {
        "id": "DnOaZdaE5Q5t"
      },
      "execution_count": null,
      "outputs": []
    },
    {
      "cell_type": "markdown",
      "source": [
        "### Variables Description "
      ],
      "metadata": {
        "id": "PBTbrJXOngz2"
      }
    },
    {
      "cell_type": "markdown",
      "source": [
        "Answer Here"
      ],
      "metadata": {
        "id": "aJV4KIxSnxay"
      }
    },
    {
      "cell_type": "markdown",
      "source": [
        "### Check Unique Values for each variable."
      ],
      "metadata": {
        "id": "u3PMJOP6ngxN"
      }
    },
    {
      "cell_type": "code",
      "source": [
        "# Check Unique Values for each variable."
      ],
      "metadata": {
        "id": "zms12Yq5n-jE"
      },
      "execution_count": null,
      "outputs": []
    },
    {
      "cell_type": "markdown",
      "source": [
        "## 3. ***Data Wrangling***"
      ],
      "metadata": {
        "id": "dauF4eBmngu3"
      }
    },
    {
      "cell_type": "markdown",
      "source": [
        "### Data Wrangling Code"
      ],
      "metadata": {
        "id": "bKJF3rekwFvQ"
      }
    },
    {
      "cell_type": "code",
      "source": [
        "# Write your code to make your dataset analysis ready."
      ],
      "metadata": {
        "id": "wk-9a2fpoLcV"
      },
      "execution_count": null,
      "outputs": []
    },
    {
      "cell_type": "markdown",
      "source": [
        "### What all manipulations have you done and insights you found?"
      ],
      "metadata": {
        "id": "MSa1f5Uengrz"
      }
    },
    {
      "cell_type": "markdown",
      "source": [
        "Answer Here."
      ],
      "metadata": {
        "id": "LbyXE7I1olp8"
      }
    },
    {
      "cell_type": "markdown",
      "source": [
        "## ***4. Data Vizualization, Storytelling & Experimenting with charts : Understand the relationships between variables***"
      ],
      "metadata": {
        "id": "GF8Ens_Soomf"
      }
    },
    {
      "cell_type": "markdown",
      "source": [
        "#### Chart - 1"
      ],
      "metadata": {
        "id": "0wOQAZs5pc--"
      }
    },
    {
      "cell_type": "code",
      "source": [
        "# Chart - 1 visualization code"
      ],
      "metadata": {
        "id": "7v_ESjsspbW7"
      },
      "execution_count": null,
      "outputs": []
    },
    {
      "cell_type": "markdown",
      "source": [
        "##### 1. Why did you pick the specific chart?"
      ],
      "metadata": {
        "id": "K5QZ13OEpz2H"
      }
    },
    {
      "cell_type": "markdown",
      "source": [
        "Answer Here."
      ],
      "metadata": {
        "id": "XESiWehPqBRc"
      }
    },
    {
      "cell_type": "markdown",
      "source": [
        "##### 2. What is/are the insight(s) found from the chart?"
      ],
      "metadata": {
        "id": "lQ7QKXXCp7Bj"
      }
    },
    {
      "cell_type": "markdown",
      "source": [
        "Answer Here"
      ],
      "metadata": {
        "id": "C_j1G7yiqdRP"
      }
    },
    {
      "cell_type": "markdown",
      "source": [
        "##### 3. Will the gained insights help creating a positive business impact? \n",
        "Are there any insights that lead to negative growth? Justify with specific reason."
      ],
      "metadata": {
        "id": "448CDAPjqfQr"
      }
    },
    {
      "cell_type": "markdown",
      "source": [
        "Answer Here"
      ],
      "metadata": {
        "id": "3cspy4FjqxJW"
      }
    },
    {
      "cell_type": "markdown",
      "source": [
        "#### Chart - 2"
      ],
      "metadata": {
        "id": "KSlN3yHqYklG"
      }
    },
    {
      "cell_type": "code",
      "source": [
        "# Chart - 2 visualization code"
      ],
      "metadata": {
        "id": "R4YgtaqtYklH"
      },
      "execution_count": null,
      "outputs": []
    },
    {
      "cell_type": "markdown",
      "source": [
        "##### 1. Why did you pick the specific chart?"
      ],
      "metadata": {
        "id": "t6dVpIINYklI"
      }
    },
    {
      "cell_type": "markdown",
      "source": [
        "Answer Here."
      ],
      "metadata": {
        "id": "5aaW0BYyYklI"
      }
    },
    {
      "cell_type": "markdown",
      "source": [
        "##### 2. What is/are the insight(s) found from the chart?"
      ],
      "metadata": {
        "id": "ijmpgYnKYklI"
      }
    },
    {
      "cell_type": "markdown",
      "source": [
        "Answer Here"
      ],
      "metadata": {
        "id": "PSx9atu2YklI"
      }
    },
    {
      "cell_type": "markdown",
      "source": [
        "##### 3. Will the gained insights help creating a positive business impact? \n",
        "Are there any insights that lead to negative growth? Justify with specific reason."
      ],
      "metadata": {
        "id": "-JiQyfWJYklI"
      }
    },
    {
      "cell_type": "markdown",
      "source": [
        "Answer Here"
      ],
      "metadata": {
        "id": "BcBbebzrYklV"
      }
    },
    {
      "cell_type": "markdown",
      "source": [
        "#### Chart - 3"
      ],
      "metadata": {
        "id": "EM7whBJCYoAo"
      }
    },
    {
      "cell_type": "code",
      "source": [
        "# Chart - 3 visualization code"
      ],
      "metadata": {
        "id": "t6GMdE67YoAp"
      },
      "execution_count": null,
      "outputs": []
    },
    {
      "cell_type": "markdown",
      "source": [
        "##### 1. Why did you pick the specific chart?"
      ],
      "metadata": {
        "id": "fge-S5ZAYoAp"
      }
    },
    {
      "cell_type": "markdown",
      "source": [
        "Answer Here."
      ],
      "metadata": {
        "id": "5dBItgRVYoAp"
      }
    },
    {
      "cell_type": "markdown",
      "source": [
        "##### 2. What is/are the insight(s) found from the chart?"
      ],
      "metadata": {
        "id": "85gYPyotYoAp"
      }
    },
    {
      "cell_type": "markdown",
      "source": [
        "Answer Here"
      ],
      "metadata": {
        "id": "4jstXR6OYoAp"
      }
    },
    {
      "cell_type": "markdown",
      "source": [
        "##### 3. Will the gained insights help creating a positive business impact? \n",
        "Are there any insights that lead to negative growth? Justify with specific reason."
      ],
      "metadata": {
        "id": "RoGjAbkUYoAp"
      }
    },
    {
      "cell_type": "markdown",
      "source": [
        "Answer Here"
      ],
      "metadata": {
        "id": "zfJ8IqMcYoAp"
      }
    },
    {
      "cell_type": "markdown",
      "source": [
        "#### Chart - 4"
      ],
      "metadata": {
        "id": "4Of9eVA-YrdM"
      }
    },
    {
      "cell_type": "code",
      "source": [
        "# Chart - 4 visualization code"
      ],
      "metadata": {
        "id": "irlUoxc8YrdO"
      },
      "execution_count": null,
      "outputs": []
    },
    {
      "cell_type": "markdown",
      "source": [
        "##### 1. Why did you pick the specific chart?"
      ],
      "metadata": {
        "id": "iky9q4vBYrdO"
      }
    },
    {
      "cell_type": "markdown",
      "source": [
        "Answer Here."
      ],
      "metadata": {
        "id": "aJRCwT6DYrdO"
      }
    },
    {
      "cell_type": "markdown",
      "source": [
        "##### 2. What is/are the insight(s) found from the chart?"
      ],
      "metadata": {
        "id": "F6T5p64dYrdO"
      }
    },
    {
      "cell_type": "markdown",
      "source": [
        "Answer Here"
      ],
      "metadata": {
        "id": "Xx8WAJvtYrdO"
      }
    },
    {
      "cell_type": "markdown",
      "source": [
        "##### 3. Will the gained insights help creating a positive business impact? \n",
        "Are there any insights that lead to negative growth? Justify with specific reason."
      ],
      "metadata": {
        "id": "y-Ehk30pYrdP"
      }
    },
    {
      "cell_type": "markdown",
      "source": [
        "Answer Here"
      ],
      "metadata": {
        "id": "jLNxxz7MYrdP"
      }
    },
    {
      "cell_type": "markdown",
      "source": [
        "#### Chart - 5"
      ],
      "metadata": {
        "id": "bamQiAODYuh1"
      }
    },
    {
      "cell_type": "code",
      "source": [
        "# Chart - 5 visualization code"
      ],
      "metadata": {
        "id": "TIJwrbroYuh3"
      },
      "execution_count": null,
      "outputs": []
    },
    {
      "cell_type": "markdown",
      "source": [
        "##### 1. Why did you pick the specific chart?"
      ],
      "metadata": {
        "id": "QHF8YVU7Yuh3"
      }
    },
    {
      "cell_type": "markdown",
      "source": [
        "Answer Here."
      ],
      "metadata": {
        "id": "dcxuIMRPYuh3"
      }
    },
    {
      "cell_type": "markdown",
      "source": [
        "##### 2. What is/are the insight(s) found from the chart?"
      ],
      "metadata": {
        "id": "GwzvFGzlYuh3"
      }
    },
    {
      "cell_type": "markdown",
      "source": [
        "Answer Here"
      ],
      "metadata": {
        "id": "uyqkiB8YYuh3"
      }
    },
    {
      "cell_type": "markdown",
      "source": [
        "##### 3. Will the gained insights help creating a positive business impact? \n",
        "Are there any insights that lead to negative growth? Justify with specific reason."
      ],
      "metadata": {
        "id": "qYpmQ266Yuh3"
      }
    },
    {
      "cell_type": "markdown",
      "source": [
        "Answer Here"
      ],
      "metadata": {
        "id": "_WtzZ_hCYuh4"
      }
    },
    {
      "cell_type": "markdown",
      "source": [
        "#### Chart - 6"
      ],
      "metadata": {
        "id": "OH-pJp9IphqM"
      }
    },
    {
      "cell_type": "code",
      "source": [
        "# Chart - 6 visualization code"
      ],
      "metadata": {
        "id": "kuRf4wtuphqN"
      },
      "execution_count": null,
      "outputs": []
    },
    {
      "cell_type": "markdown",
      "source": [
        "##### 1. Why did you pick the specific chart?"
      ],
      "metadata": {
        "id": "bbFf2-_FphqN"
      }
    },
    {
      "cell_type": "markdown",
      "source": [
        "Answer Here."
      ],
      "metadata": {
        "id": "loh7H2nzphqN"
      }
    },
    {
      "cell_type": "markdown",
      "source": [
        "##### 2. What is/are the insight(s) found from the chart?"
      ],
      "metadata": {
        "id": "_ouA3fa0phqN"
      }
    },
    {
      "cell_type": "markdown",
      "source": [
        "Answer Here"
      ],
      "metadata": {
        "id": "VECbqPI7phqN"
      }
    },
    {
      "cell_type": "markdown",
      "source": [
        "##### 3. Will the gained insights help creating a positive business impact? \n",
        "Are there any insights that lead to negative growth? Justify with specific reason."
      ],
      "metadata": {
        "id": "Seke61FWphqN"
      }
    },
    {
      "cell_type": "markdown",
      "source": [
        "Answer Here"
      ],
      "metadata": {
        "id": "DW4_bGpfphqN"
      }
    },
    {
      "cell_type": "markdown",
      "source": [
        "#### Chart - 7"
      ],
      "metadata": {
        "id": "PIIx-8_IphqN"
      }
    },
    {
      "cell_type": "code",
      "source": [
        "# Chart - 7 visualization code"
      ],
      "metadata": {
        "id": "lqAIGUfyphqO"
      },
      "execution_count": null,
      "outputs": []
    },
    {
      "cell_type": "markdown",
      "source": [
        "##### 1. Why did you pick the specific chart?"
      ],
      "metadata": {
        "id": "t27r6nlMphqO"
      }
    },
    {
      "cell_type": "markdown",
      "source": [
        "Answer Here."
      ],
      "metadata": {
        "id": "iv6ro40sphqO"
      }
    },
    {
      "cell_type": "markdown",
      "source": [
        "##### 2. What is/are the insight(s) found from the chart?"
      ],
      "metadata": {
        "id": "r2jJGEOYphqO"
      }
    },
    {
      "cell_type": "markdown",
      "source": [
        "Answer Here"
      ],
      "metadata": {
        "id": "Po6ZPi4hphqO"
      }
    },
    {
      "cell_type": "markdown",
      "source": [
        "##### 3. Will the gained insights help creating a positive business impact? \n",
        "Are there any insights that lead to negative growth? Justify with specific reason."
      ],
      "metadata": {
        "id": "b0JNsNcRphqO"
      }
    },
    {
      "cell_type": "markdown",
      "source": [
        "Answer Here"
      ],
      "metadata": {
        "id": "xvSq8iUTphqO"
      }
    },
    {
      "cell_type": "markdown",
      "source": [
        "#### Chart - 8"
      ],
      "metadata": {
        "id": "BZR9WyysphqO"
      }
    },
    {
      "cell_type": "code",
      "source": [
        "# Chart - 8 visualization code"
      ],
      "metadata": {
        "id": "TdPTWpAVphqO"
      },
      "execution_count": null,
      "outputs": []
    },
    {
      "cell_type": "markdown",
      "source": [
        "##### 1. Why did you pick the specific chart?"
      ],
      "metadata": {
        "id": "jj7wYXLtphqO"
      }
    },
    {
      "cell_type": "markdown",
      "source": [
        "Answer Here."
      ],
      "metadata": {
        "id": "Ob8u6rCTphqO"
      }
    },
    {
      "cell_type": "markdown",
      "source": [
        "##### 2. What is/are the insight(s) found from the chart?"
      ],
      "metadata": {
        "id": "eZrbJ2SmphqO"
      }
    },
    {
      "cell_type": "markdown",
      "source": [
        "Answer Here"
      ],
      "metadata": {
        "id": "mZtgC_hjphqO"
      }
    },
    {
      "cell_type": "markdown",
      "source": [
        "##### 3. Will the gained insights help creating a positive business impact? \n",
        "Are there any insights that lead to negative growth? Justify with specific reason."
      ],
      "metadata": {
        "id": "rFu4xreNphqO"
      }
    },
    {
      "cell_type": "markdown",
      "source": [
        "Answer Here"
      ],
      "metadata": {
        "id": "ey_0qi68phqO"
      }
    },
    {
      "cell_type": "markdown",
      "source": [
        "#### Chart - 9"
      ],
      "metadata": {
        "id": "YJ55k-q6phqO"
      }
    },
    {
      "cell_type": "code",
      "source": [
        "# Chart - 9 visualization code"
      ],
      "metadata": {
        "id": "B2aS4O1ophqO"
      },
      "execution_count": null,
      "outputs": []
    },
    {
      "cell_type": "markdown",
      "source": [
        "##### 1. Why did you pick the specific chart?"
      ],
      "metadata": {
        "id": "gCFgpxoyphqP"
      }
    },
    {
      "cell_type": "markdown",
      "source": [
        "Answer Here."
      ],
      "metadata": {
        "id": "TVxDimi2phqP"
      }
    },
    {
      "cell_type": "markdown",
      "source": [
        "##### 2. What is/are the insight(s) found from the chart?"
      ],
      "metadata": {
        "id": "OVtJsKN_phqQ"
      }
    },
    {
      "cell_type": "markdown",
      "source": [
        "Answer Here"
      ],
      "metadata": {
        "id": "ngGi97qjphqQ"
      }
    },
    {
      "cell_type": "markdown",
      "source": [
        "##### 3. Will the gained insights help creating a positive business impact? \n",
        "Are there any insights that lead to negative growth? Justify with specific reason."
      ],
      "metadata": {
        "id": "lssrdh5qphqQ"
      }
    },
    {
      "cell_type": "markdown",
      "source": [
        "Answer Here"
      ],
      "metadata": {
        "id": "tBpY5ekJphqQ"
      }
    },
    {
      "cell_type": "markdown",
      "source": [
        "#### Chart - 10"
      ],
      "metadata": {
        "id": "U2RJ9gkRphqQ"
      }
    },
    {
      "cell_type": "code",
      "source": [
        "# Chart - 10 visualization code"
      ],
      "metadata": {
        "id": "GM7a4YP4phqQ"
      },
      "execution_count": null,
      "outputs": []
    },
    {
      "cell_type": "markdown",
      "source": [
        "##### 1. Why did you pick the specific chart?"
      ],
      "metadata": {
        "id": "1M8mcRywphqQ"
      }
    },
    {
      "cell_type": "markdown",
      "source": [
        "Answer Here."
      ],
      "metadata": {
        "id": "8agQvks0phqQ"
      }
    },
    {
      "cell_type": "markdown",
      "source": [
        "##### 2. What is/are the insight(s) found from the chart?"
      ],
      "metadata": {
        "id": "tgIPom80phqQ"
      }
    },
    {
      "cell_type": "markdown",
      "source": [
        "Answer Here"
      ],
      "metadata": {
        "id": "Qp13pnNzphqQ"
      }
    },
    {
      "cell_type": "markdown",
      "source": [
        "##### 3. Will the gained insights help creating a positive business impact? \n",
        "Are there any insights that lead to negative growth? Justify with specific reason."
      ],
      "metadata": {
        "id": "JMzcOPDDphqR"
      }
    },
    {
      "cell_type": "markdown",
      "source": [
        "Answer Here"
      ],
      "metadata": {
        "id": "R4Ka1PC2phqR"
      }
    },
    {
      "cell_type": "markdown",
      "source": [
        "#### Chart - 11"
      ],
      "metadata": {
        "id": "x-EpHcCOp1ci"
      }
    },
    {
      "cell_type": "code",
      "source": [
        "# Chart - 11 visualization code"
      ],
      "metadata": {
        "id": "mAQTIvtqp1cj"
      },
      "execution_count": null,
      "outputs": []
    },
    {
      "cell_type": "markdown",
      "source": [
        "##### 1. Why did you pick the specific chart?"
      ],
      "metadata": {
        "id": "X_VqEhTip1ck"
      }
    },
    {
      "cell_type": "markdown",
      "source": [
        "Answer Here."
      ],
      "metadata": {
        "id": "-vsMzt_np1ck"
      }
    },
    {
      "cell_type": "markdown",
      "source": [
        "##### 2. What is/are the insight(s) found from the chart?"
      ],
      "metadata": {
        "id": "8zGJKyg5p1ck"
      }
    },
    {
      "cell_type": "markdown",
      "source": [
        "Answer Here"
      ],
      "metadata": {
        "id": "ZYdMsrqVp1ck"
      }
    },
    {
      "cell_type": "markdown",
      "source": [
        "##### 3. Will the gained insights help creating a positive business impact? \n",
        "Are there any insights that lead to negative growth? Justify with specific reason."
      ],
      "metadata": {
        "id": "PVzmfK_Ep1ck"
      }
    },
    {
      "cell_type": "markdown",
      "source": [
        "Answer Here"
      ],
      "metadata": {
        "id": "druuKYZpp1ck"
      }
    },
    {
      "cell_type": "markdown",
      "source": [
        "#### Chart - 12"
      ],
      "metadata": {
        "id": "n3dbpmDWp1ck"
      }
    },
    {
      "cell_type": "code",
      "source": [
        "# Chart - 12 visualization code"
      ],
      "metadata": {
        "id": "bwevp1tKp1ck"
      },
      "execution_count": null,
      "outputs": []
    },
    {
      "cell_type": "markdown",
      "source": [
        "##### 1. Why did you pick the specific chart?"
      ],
      "metadata": {
        "id": "ylSl6qgtp1ck"
      }
    },
    {
      "cell_type": "markdown",
      "source": [
        "Answer Here."
      ],
      "metadata": {
        "id": "m2xqNkiQp1ck"
      }
    },
    {
      "cell_type": "markdown",
      "source": [
        "##### 2. What is/are the insight(s) found from the chart?"
      ],
      "metadata": {
        "id": "ZWILFDl5p1ck"
      }
    },
    {
      "cell_type": "markdown",
      "source": [
        "Answer Here"
      ],
      "metadata": {
        "id": "x-lUsV2mp1ck"
      }
    },
    {
      "cell_type": "markdown",
      "source": [
        "##### 3. Will the gained insights help creating a positive business impact? \n",
        "Are there any insights that lead to negative growth? Justify with specific reason."
      ],
      "metadata": {
        "id": "M7G43BXep1ck"
      }
    },
    {
      "cell_type": "markdown",
      "source": [
        "Answer Here"
      ],
      "metadata": {
        "id": "5wwDJXsLp1cl"
      }
    },
    {
      "cell_type": "markdown",
      "source": [
        "#### Chart - 13"
      ],
      "metadata": {
        "id": "Ag9LCva-p1cl"
      }
    },
    {
      "cell_type": "code",
      "source": [
        "# Chart - 13 visualization code"
      ],
      "metadata": {
        "id": "EUfxeq9-p1cl"
      },
      "execution_count": null,
      "outputs": []
    },
    {
      "cell_type": "markdown",
      "source": [
        "##### 1. Why did you pick the specific chart?"
      ],
      "metadata": {
        "id": "E6MkPsBcp1cl"
      }
    },
    {
      "cell_type": "markdown",
      "source": [
        "Answer Here."
      ],
      "metadata": {
        "id": "V22bRsFWp1cl"
      }
    },
    {
      "cell_type": "markdown",
      "source": [
        "##### 2. What is/are the insight(s) found from the chart?"
      ],
      "metadata": {
        "id": "2cELzS2fp1cl"
      }
    },
    {
      "cell_type": "markdown",
      "source": [
        "Answer Here"
      ],
      "metadata": {
        "id": "ozQPc2_Ip1cl"
      }
    },
    {
      "cell_type": "markdown",
      "source": [
        "##### 3. Will the gained insights help creating a positive business impact? \n",
        "Are there any insights that lead to negative growth? Justify with specific reason."
      ],
      "metadata": {
        "id": "3MPXvC8up1cl"
      }
    },
    {
      "cell_type": "markdown",
      "source": [
        "Answer Here"
      ],
      "metadata": {
        "id": "GL8l1tdLp1cl"
      }
    },
    {
      "cell_type": "markdown",
      "source": [
        "#### Chart - 14 - Correlation Heatmap"
      ],
      "metadata": {
        "id": "NC_X3p0fY2L0"
      }
    },
    {
      "cell_type": "code",
      "source": [
        "# Correlation Heatmap visualization code"
      ],
      "metadata": {
        "id": "xyC9zolEZNRQ"
      },
      "execution_count": null,
      "outputs": []
    },
    {
      "cell_type": "markdown",
      "source": [
        "##### 1. Why did you pick the specific chart?"
      ],
      "metadata": {
        "id": "UV0SzAkaZNRQ"
      }
    },
    {
      "cell_type": "markdown",
      "source": [
        "Answer Here."
      ],
      "metadata": {
        "id": "DVPuT8LYZNRQ"
      }
    },
    {
      "cell_type": "markdown",
      "source": [
        "##### 2. What is/are the insight(s) found from the chart?"
      ],
      "metadata": {
        "id": "YPEH6qLeZNRQ"
      }
    },
    {
      "cell_type": "markdown",
      "source": [
        "Answer Here"
      ],
      "metadata": {
        "id": "bfSqtnDqZNRR"
      }
    },
    {
      "cell_type": "markdown",
      "source": [
        "#### Chart - 15 - Pair Plot "
      ],
      "metadata": {
        "id": "q29F0dvdveiT"
      }
    },
    {
      "cell_type": "code",
      "source": [
        "# Pair Plot visualization code"
      ],
      "metadata": {
        "id": "o58-TEIhveiU"
      },
      "execution_count": null,
      "outputs": []
    },
    {
      "cell_type": "markdown",
      "source": [
        "##### 1. Why did you pick the specific chart?"
      ],
      "metadata": {
        "id": "EXh0U9oCveiU"
      }
    },
    {
      "cell_type": "markdown",
      "source": [
        "Answer Here."
      ],
      "metadata": {
        "id": "eMmPjTByveiU"
      }
    },
    {
      "cell_type": "markdown",
      "source": [
        "##### 2. What is/are the insight(s) found from the chart?"
      ],
      "metadata": {
        "id": "22aHeOlLveiV"
      }
    },
    {
      "cell_type": "markdown",
      "source": [
        "Answer Here"
      ],
      "metadata": {
        "id": "uPQ8RGwHveiV"
      }
    },
    {
      "cell_type": "markdown",
      "source": [
        "## ***5. Hypothesis Testing***"
      ],
      "metadata": {
        "id": "g-ATYxFrGrvw"
      }
    },
    {
      "cell_type": "markdown",
      "source": [
        "### Based on your chart experiments, define three hypothetical statements from the dataset. In the next three questions, perform hypothesis testing to obtain final conclusion about the statements through your code and statistical testing."
      ],
      "metadata": {
        "id": "Yfr_Vlr8HBkt"
      }
    },
    {
      "cell_type": "markdown",
      "source": [
        "Answer Here."
      ],
      "metadata": {
        "id": "-7MS06SUHkB-"
      }
    },
    {
      "cell_type": "markdown",
      "source": [
        "### Hypothetical Statement - 1"
      ],
      "metadata": {
        "id": "8yEUt7NnHlrM"
      }
    },
    {
      "cell_type": "markdown",
      "source": [
        "#### 1. State Your research hypothesis as a null hypothesis and alternate hypothesis."
      ],
      "metadata": {
        "id": "tEA2Xm5dHt1r"
      }
    },
    {
      "cell_type": "markdown",
      "source": [
        "Answer Here."
      ],
      "metadata": {
        "id": "HI9ZP0laH0D-"
      }
    },
    {
      "cell_type": "markdown",
      "source": [
        "#### 2. Perform an appropriate statistical test."
      ],
      "metadata": {
        "id": "I79__PHVH19G"
      }
    },
    {
      "cell_type": "code",
      "source": [
        "# Perform Statistical Test to obtain P-Value"
      ],
      "metadata": {
        "id": "oZrfquKtyian"
      },
      "execution_count": null,
      "outputs": []
    },
    {
      "cell_type": "markdown",
      "source": [
        "##### Which statistical test have you done to obtain P-Value?"
      ],
      "metadata": {
        "id": "Ou-I18pAyIpj"
      }
    },
    {
      "cell_type": "markdown",
      "source": [
        "Answer Here."
      ],
      "metadata": {
        "id": "s2U0kk00ygSB"
      }
    },
    {
      "cell_type": "markdown",
      "source": [
        "##### Why did you choose the specific statistical test?"
      ],
      "metadata": {
        "id": "fF3858GYyt-u"
      }
    },
    {
      "cell_type": "markdown",
      "source": [
        "Answer Here."
      ],
      "metadata": {
        "id": "HO4K0gP5y3B4"
      }
    },
    {
      "cell_type": "markdown",
      "source": [
        "### Hypothetical Statement - 2"
      ],
      "metadata": {
        "id": "4_0_7-oCpUZd"
      }
    },
    {
      "cell_type": "markdown",
      "source": [
        "#### 1. State Your research hypothesis as a null hypothesis and alternate hypothesis."
      ],
      "metadata": {
        "id": "hwyV_J3ipUZe"
      }
    },
    {
      "cell_type": "markdown",
      "source": [
        "Answer Here."
      ],
      "metadata": {
        "id": "FnpLGJ-4pUZe"
      }
    },
    {
      "cell_type": "markdown",
      "source": [
        "#### 2. Perform an appropriate statistical test."
      ],
      "metadata": {
        "id": "3yB-zSqbpUZe"
      }
    },
    {
      "cell_type": "code",
      "source": [
        "# Perform Statistical Test to obtain P-Value"
      ],
      "metadata": {
        "id": "sWxdNTXNpUZe"
      },
      "execution_count": null,
      "outputs": []
    },
    {
      "cell_type": "markdown",
      "source": [
        "##### Which statistical test have you done to obtain P-Value?"
      ],
      "metadata": {
        "id": "dEUvejAfpUZe"
      }
    },
    {
      "cell_type": "markdown",
      "source": [
        "Answer Here."
      ],
      "metadata": {
        "id": "oLDrPz7HpUZf"
      }
    },
    {
      "cell_type": "markdown",
      "source": [
        "##### Why did you choose the specific statistical test?"
      ],
      "metadata": {
        "id": "Fd15vwWVpUZf"
      }
    },
    {
      "cell_type": "markdown",
      "source": [
        "Answer Here."
      ],
      "metadata": {
        "id": "4xOGYyiBpUZf"
      }
    },
    {
      "cell_type": "markdown",
      "source": [
        "### Hypothetical Statement - 3"
      ],
      "metadata": {
        "id": "bn_IUdTipZyH"
      }
    },
    {
      "cell_type": "markdown",
      "source": [
        "#### 1. State Your research hypothesis as a null hypothesis and alternate hypothesis."
      ],
      "metadata": {
        "id": "49K5P_iCpZyH"
      }
    },
    {
      "cell_type": "markdown",
      "source": [
        "Answer Here."
      ],
      "metadata": {
        "id": "7gWI5rT9pZyH"
      }
    },
    {
      "cell_type": "markdown",
      "source": [
        "#### 2. Perform an appropriate statistical test."
      ],
      "metadata": {
        "id": "Nff-vKELpZyI"
      }
    },
    {
      "cell_type": "code",
      "source": [
        "# Perform Statistical Test to obtain P-Value"
      ],
      "metadata": {
        "id": "s6AnJQjtpZyI"
      },
      "execution_count": null,
      "outputs": []
    },
    {
      "cell_type": "markdown",
      "source": [
        "##### Which statistical test have you done to obtain P-Value?"
      ],
      "metadata": {
        "id": "kLW572S8pZyI"
      }
    },
    {
      "cell_type": "markdown",
      "source": [
        "Answer Here."
      ],
      "metadata": {
        "id": "ytWJ8v15pZyI"
      }
    },
    {
      "cell_type": "markdown",
      "source": [
        "##### Why did you choose the specific statistical test?"
      ],
      "metadata": {
        "id": "dWbDXHzopZyI"
      }
    },
    {
      "cell_type": "markdown",
      "source": [
        "Answer Here."
      ],
      "metadata": {
        "id": "M99G98V6pZyI"
      }
    },
    {
      "cell_type": "markdown",
      "source": [
        "## ***6. Feature Engineering & Data Pre-processing***"
      ],
      "metadata": {
        "id": "yLjJCtPM0KBk"
      }
    },
    {
      "cell_type": "markdown",
      "source": [
        "### 1. Handling Missing Values"
      ],
      "metadata": {
        "id": "xiyOF9F70UgQ"
      }
    },
    {
      "cell_type": "code",
      "source": [
        "# Handling Missing Values & Missing Value Imputation"
      ],
      "metadata": {
        "id": "iRsAHk1K0fpS"
      },
      "execution_count": null,
      "outputs": []
    },
    {
      "cell_type": "markdown",
      "source": [
        "#### What all missing value imputation techniques have you used and why did you use those techniques?"
      ],
      "metadata": {
        "id": "7wuGOrhz0itI"
      }
    },
    {
      "cell_type": "markdown",
      "source": [
        "Answer Here."
      ],
      "metadata": {
        "id": "1ixusLtI0pqI"
      }
    },
    {
      "cell_type": "markdown",
      "source": [
        "### 2. Handling Outliers"
      ],
      "metadata": {
        "id": "id1riN9m0vUs"
      }
    },
    {
      "cell_type": "code",
      "source": [
        "# Handling Outliers & Outlier treatments"
      ],
      "metadata": {
        "id": "M6w2CzZf04JK"
      },
      "execution_count": null,
      "outputs": []
    },
    {
      "cell_type": "markdown",
      "source": [
        "##### What all outlier treatment techniques have you used and why did you use those techniques?"
      ],
      "metadata": {
        "id": "578E2V7j08f6"
      }
    },
    {
      "cell_type": "markdown",
      "source": [
        "Answer Here."
      ],
      "metadata": {
        "id": "uGZz5OrT1HH-"
      }
    },
    {
      "cell_type": "markdown",
      "source": [
        "### 3. Categorical Encoding"
      ],
      "metadata": {
        "id": "89xtkJwZ18nB"
      }
    },
    {
      "cell_type": "code",
      "source": [
        "# Encode your categorical columns"
      ],
      "metadata": {
        "id": "21JmIYMG2hEo"
      },
      "execution_count": null,
      "outputs": []
    },
    {
      "cell_type": "markdown",
      "source": [
        "#### What all categorical encoding techniques have you used & why did you use those techniques?"
      ],
      "metadata": {
        "id": "67NQN5KX2AMe"
      }
    },
    {
      "cell_type": "markdown",
      "source": [
        "Answer Here."
      ],
      "metadata": {
        "id": "UDaue5h32n_G"
      }
    },
    {
      "cell_type": "markdown",
      "source": [
        "### 4. Textual Data Preprocessing \n",
        "(It's mandatory for textual dataset i.e., NLP, Sentiment Analysis, Text Clustering etc.)"
      ],
      "metadata": {
        "id": "Iwf50b-R2tYG"
      }
    },
    {
      "cell_type": "markdown",
      "source": [
        "#### 1. Expand Contraction"
      ],
      "metadata": {
        "id": "GMQiZwjn3iu7"
      }
    },
    {
      "cell_type": "code",
      "source": [
        "# Expand Contraction"
      ],
      "metadata": {
        "id": "PTouz10C3oNN"
      },
      "execution_count": null,
      "outputs": []
    },
    {
      "cell_type": "markdown",
      "source": [
        "#### 2. Lower Casing"
      ],
      "metadata": {
        "id": "WVIkgGqN3qsr"
      }
    },
    {
      "cell_type": "code",
      "source": [
        "# Lower Casing"
      ],
      "metadata": {
        "id": "88JnJ1jN3w7j"
      },
      "execution_count": null,
      "outputs": []
    },
    {
      "cell_type": "markdown",
      "source": [
        "#### 3. Removing Punctuations"
      ],
      "metadata": {
        "id": "XkPnILGE3zoT"
      }
    },
    {
      "cell_type": "code",
      "source": [
        "# Remove Punctuations"
      ],
      "metadata": {
        "id": "vqbBqNaA33c0"
      },
      "execution_count": null,
      "outputs": []
    },
    {
      "cell_type": "markdown",
      "source": [
        "#### 4. Removing URLs & Removing words and digits contain digits."
      ],
      "metadata": {
        "id": "Hlsf0x5436Go"
      }
    },
    {
      "cell_type": "code",
      "source": [
        "# Remove URLs & Remove words and digits contain digits"
      ],
      "metadata": {
        "id": "2sxKgKxu4Ip3"
      },
      "execution_count": null,
      "outputs": []
    },
    {
      "cell_type": "markdown",
      "source": [
        "#### 5. Removing Stopwords & Removing White spaces"
      ],
      "metadata": {
        "id": "mT9DMSJo4nBL"
      }
    },
    {
      "cell_type": "code",
      "source": [
        "# Remove Stopwords"
      ],
      "metadata": {
        "id": "T2LSJh154s8W"
      },
      "execution_count": null,
      "outputs": []
    },
    {
      "cell_type": "code",
      "source": [
        "# Remove White spaces"
      ],
      "metadata": {
        "id": "EgLJGffy4vm0"
      },
      "execution_count": null,
      "outputs": []
    },
    {
      "cell_type": "markdown",
      "source": [
        "#### 6. Rephrase Text"
      ],
      "metadata": {
        "id": "c49ITxTc407N"
      }
    },
    {
      "cell_type": "code",
      "source": [
        "# Rephrase Text"
      ],
      "metadata": {
        "id": "foqY80Qu48N2"
      },
      "execution_count": null,
      "outputs": []
    },
    {
      "cell_type": "markdown",
      "source": [
        "#### 7. Tokenization"
      ],
      "metadata": {
        "id": "OeJFEK0N496M"
      }
    },
    {
      "cell_type": "code",
      "source": [
        "# Tokenization"
      ],
      "metadata": {
        "id": "ijx1rUOS5CUU"
      },
      "execution_count": null,
      "outputs": []
    },
    {
      "cell_type": "markdown",
      "source": [
        "#### 8. Text Normalization"
      ],
      "metadata": {
        "id": "9ExmJH0g5HBk"
      }
    },
    {
      "cell_type": "code",
      "source": [
        "# Normalizing Text (i.e., Stemming, Lemmatization etc.)"
      ],
      "metadata": {
        "id": "AIJ1a-Zc5PY8"
      },
      "execution_count": null,
      "outputs": []
    },
    {
      "cell_type": "markdown",
      "source": [
        "##### Which text normalization technique have you used and why?"
      ],
      "metadata": {
        "id": "cJNqERVU536h"
      }
    },
    {
      "cell_type": "markdown",
      "source": [
        "Answer Here."
      ],
      "metadata": {
        "id": "Z9jKVxE06BC1"
      }
    },
    {
      "cell_type": "markdown",
      "source": [
        "#### 9. Part of speech tagging"
      ],
      "metadata": {
        "id": "k5UmGsbsOxih"
      }
    },
    {
      "cell_type": "code",
      "source": [
        "# POS Taging"
      ],
      "metadata": {
        "id": "btT3ZJBAO6Ik"
      },
      "execution_count": null,
      "outputs": []
    },
    {
      "cell_type": "markdown",
      "source": [
        "#### 10. Text Vectorization"
      ],
      "metadata": {
        "id": "T0VqWOYE6DLQ"
      }
    },
    {
      "cell_type": "code",
      "source": [
        "# Vectorizing Text"
      ],
      "metadata": {
        "id": "yBRtdhth6JDE"
      },
      "execution_count": null,
      "outputs": []
    },
    {
      "cell_type": "markdown",
      "source": [
        "##### Which text vectorization technique have you used and why?"
      ],
      "metadata": {
        "id": "qBMux9mC6MCf"
      }
    },
    {
      "cell_type": "markdown",
      "source": [
        "Answer Here."
      ],
      "metadata": {
        "id": "su2EnbCh6UKQ"
      }
    },
    {
      "cell_type": "markdown",
      "source": [
        "### 4. Feature Manipulation & Selection"
      ],
      "metadata": {
        "id": "-oLEiFgy-5Pf"
      }
    },
    {
      "cell_type": "markdown",
      "source": [
        "#### 1. Feature Manipulation"
      ],
      "metadata": {
        "id": "C74aWNz2AliB"
      }
    },
    {
      "cell_type": "code",
      "source": [
        "# Manipulate Features to minimize feature correlation and create new features"
      ],
      "metadata": {
        "id": "h1qC4yhBApWC"
      },
      "execution_count": null,
      "outputs": []
    },
    {
      "cell_type": "markdown",
      "source": [
        "#### 2. Feature Selection"
      ],
      "metadata": {
        "id": "2DejudWSA-a0"
      }
    },
    {
      "cell_type": "code",
      "source": [
        "# Select your features wisely to avoid overfitting"
      ],
      "metadata": {
        "id": "YLhe8UmaBCEE"
      },
      "execution_count": null,
      "outputs": []
    },
    {
      "cell_type": "markdown",
      "source": [
        "##### What all feature selection methods have you used  and why?"
      ],
      "metadata": {
        "id": "pEMng2IbBLp7"
      }
    },
    {
      "cell_type": "markdown",
      "source": [
        "Answer Here."
      ],
      "metadata": {
        "id": "rb2Lh6Z8BgGs"
      }
    },
    {
      "cell_type": "markdown",
      "source": [
        "##### Which all features you found important and why?"
      ],
      "metadata": {
        "id": "rAdphbQ9Bhjc"
      }
    },
    {
      "cell_type": "markdown",
      "source": [
        "Answer Here."
      ],
      "metadata": {
        "id": "fGgaEstsBnaf"
      }
    },
    {
      "cell_type": "markdown",
      "source": [
        "### 5. Data Transformation"
      ],
      "metadata": {
        "id": "TNVZ9zx19K6k"
      }
    },
    {
      "cell_type": "markdown",
      "source": [
        "#### Do you think that your data needs to be transformed? If yes, which transformation have you used. Explain Why?"
      ],
      "metadata": {
        "id": "nqoHp30x9hH9"
      }
    },
    {
      "cell_type": "code",
      "source": [
        "# Transform Your data"
      ],
      "metadata": {
        "id": "I6quWQ1T9rtH"
      },
      "execution_count": null,
      "outputs": []
    },
    {
      "cell_type": "markdown",
      "source": [
        "### 6. Data Scaling"
      ],
      "metadata": {
        "id": "rMDnDkt2B6du"
      }
    },
    {
      "cell_type": "code",
      "source": [
        "# Scaling your data"
      ],
      "metadata": {
        "id": "dL9LWpySC6x_"
      },
      "execution_count": null,
      "outputs": []
    },
    {
      "cell_type": "markdown",
      "source": [
        "##### Which method have you used to scale you data and why?"
      ],
      "metadata": {
        "id": "yiiVWRdJDDil"
      }
    },
    {
      "cell_type": "markdown",
      "source": [
        "### 7. Dimesionality Reduction"
      ],
      "metadata": {
        "id": "1UUpS68QDMuG"
      }
    },
    {
      "cell_type": "markdown",
      "source": [
        "##### Do you think that dimensionality reduction is needed? Explain Why?"
      ],
      "metadata": {
        "id": "kexQrXU-DjzY"
      }
    },
    {
      "cell_type": "markdown",
      "source": [
        "Answer Here."
      ],
      "metadata": {
        "id": "GGRlBsSGDtTQ"
      }
    },
    {
      "cell_type": "code",
      "source": [
        "# DImensionality Reduction (If needed)"
      ],
      "metadata": {
        "id": "kQfvxBBHDvCa"
      },
      "execution_count": null,
      "outputs": []
    },
    {
      "cell_type": "markdown",
      "source": [
        "##### Which dimensionality reduction technique have you used and why? (If dimensionality reduction done on dataset.)"
      ],
      "metadata": {
        "id": "T5CmagL3EC8N"
      }
    },
    {
      "cell_type": "markdown",
      "source": [
        "Answer Here."
      ],
      "metadata": {
        "id": "ZKr75IDuEM7t"
      }
    },
    {
      "cell_type": "markdown",
      "source": [
        "### 8. Data Splitting"
      ],
      "metadata": {
        "id": "BhH2vgX9EjGr"
      }
    },
    {
      "cell_type": "code",
      "source": [
        "# Split your data to train and test. Choose Splitting ratio wisely."
      ],
      "metadata": {
        "id": "0CTyd2UwEyNM"
      },
      "execution_count": null,
      "outputs": []
    },
    {
      "cell_type": "markdown",
      "source": [
        "##### What data splitting ratio have you used and why? "
      ],
      "metadata": {
        "id": "qjKvONjwE8ra"
      }
    },
    {
      "cell_type": "markdown",
      "source": [
        "Answer Here."
      ],
      "metadata": {
        "id": "Y2lJ8cobFDb_"
      }
    },
    {
      "cell_type": "markdown",
      "source": [
        "### 9. Handling Imbalanced Dataset"
      ],
      "metadata": {
        "id": "P1XJ9OREExlT"
      }
    },
    {
      "cell_type": "markdown",
      "source": [
        "##### Do you think the dataset is imbalanced? Explain Why."
      ],
      "metadata": {
        "id": "VFOzZv6IFROw"
      }
    },
    {
      "cell_type": "markdown",
      "source": [
        "Answer Here."
      ],
      "metadata": {
        "id": "GeKDIv7pFgcC"
      }
    },
    {
      "cell_type": "code",
      "source": [
        "# Handling Imbalanced Dataset (If needed)"
      ],
      "metadata": {
        "id": "nQsRhhZLFiDs"
      },
      "execution_count": null,
      "outputs": []
    },
    {
      "cell_type": "markdown",
      "source": [
        "##### What technique did you use to handle the imbalance dataset and why? (If needed to be balanced)"
      ],
      "metadata": {
        "id": "TIqpNgepFxVj"
      }
    },
    {
      "cell_type": "markdown",
      "source": [
        "Answer Here."
      ],
      "metadata": {
        "id": "qbet1HwdGDTz"
      }
    },
    {
      "cell_type": "markdown",
      "source": [
        "## ***7. ML Model Implementation***"
      ],
      "metadata": {
        "id": "VfCC591jGiD4"
      }
    },
    {
      "cell_type": "markdown",
      "source": [
        "### ML Model - 1"
      ],
      "metadata": {
        "id": "OB4l2ZhMeS1U"
      }
    },
    {
      "cell_type": "code",
      "source": [
        "# ML Model - 1 Implementation\n",
        "\n",
        "# Fit the Algorithm\n",
        "\n",
        "# Predict on the model"
      ],
      "metadata": {
        "id": "7ebyywQieS1U"
      },
      "execution_count": null,
      "outputs": []
    },
    {
      "cell_type": "markdown",
      "source": [
        "#### 1. Explain the ML Model used and it's performance using Evaluation metric Score Chart."
      ],
      "metadata": {
        "id": "ArJBuiUVfxKd"
      }
    },
    {
      "cell_type": "code",
      "source": [
        "# Visualizing evaluation Metric Score chart"
      ],
      "metadata": {
        "id": "rqD5ZohzfxKe"
      },
      "execution_count": null,
      "outputs": []
    },
    {
      "cell_type": "markdown",
      "source": [
        "#### 2. Cross- Validation & Hyperparameter Tuning"
      ],
      "metadata": {
        "id": "4qY1EAkEfxKe"
      }
    },
    {
      "cell_type": "code",
      "source": [
        "# ML Model - 1 Implementation with hyperparameter optimization techniques (i.e., GridSearch CV, RandomSearch CV, Bayesian Optimization etc.)\n",
        "\n",
        "# Fit the Algorithm\n",
        "\n",
        "# Predict on the model"
      ],
      "metadata": {
        "id": "Dy61ujd6fxKe"
      },
      "execution_count": null,
      "outputs": []
    },
    {
      "cell_type": "markdown",
      "source": [
        "##### Which hyperparameter optimization technique have you used and why?"
      ],
      "metadata": {
        "id": "PiV4Ypx8fxKe"
      }
    },
    {
      "cell_type": "markdown",
      "source": [
        "Answer Here."
      ],
      "metadata": {
        "id": "negyGRa7fxKf"
      }
    },
    {
      "cell_type": "markdown",
      "source": [
        "##### Have you seen any improvement? Note down the improvement with updates Evaluation metric Score Chart."
      ],
      "metadata": {
        "id": "TfvqoZmBfxKf"
      }
    },
    {
      "cell_type": "markdown",
      "source": [
        "Answer Here."
      ],
      "metadata": {
        "id": "OaLui8CcfxKf"
      }
    },
    {
      "cell_type": "markdown",
      "source": [
        "### ML Model - 2"
      ],
      "metadata": {
        "id": "dJ2tPlVmpsJ0"
      }
    },
    {
      "cell_type": "markdown",
      "source": [
        "#### 1. Explain the ML Model used and it's performance using Evaluation metric Score Chart."
      ],
      "metadata": {
        "id": "JWYfwnehpsJ1"
      }
    },
    {
      "cell_type": "code",
      "source": [
        "# Visualizing evaluation Metric Score chart"
      ],
      "metadata": {
        "id": "yEl-hgQWpsJ1"
      },
      "execution_count": null,
      "outputs": []
    },
    {
      "cell_type": "markdown",
      "source": [
        "#### 2. Cross- Validation & Hyperparameter Tuning"
      ],
      "metadata": {
        "id": "-jK_YjpMpsJ2"
      }
    },
    {
      "cell_type": "code",
      "source": [
        "# ML Model - 1 Implementation with hyperparameter optimization techniques (i.e., GridSearch CV, RandomSearch CV, Bayesian Optimization etc.)\n",
        "\n",
        "# Fit the Algorithm\n",
        "\n",
        "# Predict on the model"
      ],
      "metadata": {
        "id": "Dn0EOfS6psJ2"
      },
      "execution_count": null,
      "outputs": []
    },
    {
      "cell_type": "markdown",
      "source": [
        "##### Which hyperparameter optimization technique have you used and why?"
      ],
      "metadata": {
        "id": "HAih1iBOpsJ2"
      }
    },
    {
      "cell_type": "markdown",
      "source": [
        "Answer Here."
      ],
      "metadata": {
        "id": "9kBgjYcdpsJ2"
      }
    },
    {
      "cell_type": "markdown",
      "source": [
        "##### Have you seen any improvement? Note down the improvement with updates Evaluation metric Score Chart."
      ],
      "metadata": {
        "id": "zVGeBEFhpsJ2"
      }
    },
    {
      "cell_type": "markdown",
      "source": [
        "Answer Here."
      ],
      "metadata": {
        "id": "74yRdG6UpsJ3"
      }
    },
    {
      "cell_type": "markdown",
      "source": [
        "#### 3. Explain each evaluation metric's indication towards business and the business impact pf the ML model used."
      ],
      "metadata": {
        "id": "bmKjuQ-FpsJ3"
      }
    },
    {
      "cell_type": "markdown",
      "source": [
        "Answer Here."
      ],
      "metadata": {
        "id": "BDKtOrBQpsJ3"
      }
    },
    {
      "cell_type": "markdown",
      "source": [
        "### ML Model - 3"
      ],
      "metadata": {
        "id": "Fze-IPXLpx6K"
      }
    },
    {
      "cell_type": "code",
      "source": [
        "# ML Model - 3 Implementation\n",
        "\n",
        "# Fit the Algorithm\n",
        "\n",
        "# Predict on the model"
      ],
      "metadata": {
        "id": "FFrSXAtrpx6M"
      },
      "execution_count": null,
      "outputs": []
    },
    {
      "cell_type": "markdown",
      "source": [
        "#### 1. Explain the ML Model used and it's performance using Evaluation metric Score Chart."
      ],
      "metadata": {
        "id": "7AN1z2sKpx6M"
      }
    },
    {
      "cell_type": "code",
      "source": [
        "# Visualizing evaluation Metric Score chart"
      ],
      "metadata": {
        "id": "xIY4lxxGpx6M"
      },
      "execution_count": null,
      "outputs": []
    },
    {
      "cell_type": "markdown",
      "source": [
        "#### 2. Cross- Validation & Hyperparameter Tuning"
      ],
      "metadata": {
        "id": "9PIHJqyupx6M"
      }
    },
    {
      "cell_type": "code",
      "source": [
        "# ML Model - 3 Implementation with hyperparameter optimization techniques (i.e., GridSearch CV, RandomSearch CV, Bayesian Optimization etc.)\n",
        "\n",
        "# Fit the Algorithm\n",
        "\n",
        "# Predict on the model"
      ],
      "metadata": {
        "id": "eSVXuaSKpx6M"
      },
      "execution_count": null,
      "outputs": []
    },
    {
      "cell_type": "markdown",
      "source": [
        "##### Which hyperparameter optimization technique have you used and why?"
      ],
      "metadata": {
        "id": "_-qAgymDpx6N"
      }
    },
    {
      "cell_type": "markdown",
      "source": [
        "Answer Here."
      ],
      "metadata": {
        "id": "lQMffxkwpx6N"
      }
    },
    {
      "cell_type": "markdown",
      "source": [
        "##### Have you seen any improvement? Note down the improvement with updates Evaluation metric Score Chart."
      ],
      "metadata": {
        "id": "Z-hykwinpx6N"
      }
    },
    {
      "cell_type": "markdown",
      "source": [
        "Answer Here."
      ],
      "metadata": {
        "id": "MzVzZC6opx6N"
      }
    },
    {
      "cell_type": "markdown",
      "source": [
        "### 1. Which Evaluation metrics did you consider for a positive business impact and why?"
      ],
      "metadata": {
        "id": "h_CCil-SKHpo"
      }
    },
    {
      "cell_type": "markdown",
      "source": [
        "Answer Here."
      ],
      "metadata": {
        "id": "jHVz9hHDKFms"
      }
    },
    {
      "cell_type": "markdown",
      "source": [
        "### 2. Which ML model did you choose from the above created models as your final prediction model and why?"
      ],
      "metadata": {
        "id": "cBFFvTBNJzUa"
      }
    },
    {
      "cell_type": "markdown",
      "source": [
        "Answer Here."
      ],
      "metadata": {
        "id": "6ksF5Q1LKTVm"
      }
    },
    {
      "cell_type": "markdown",
      "source": [
        "### 3. Explain the model which you have used and the feature importance using any model explainability tool?"
      ],
      "metadata": {
        "id": "HvGl1hHyA_VK"
      }
    },
    {
      "cell_type": "markdown",
      "source": [
        "Answer Here."
      ],
      "metadata": {
        "id": "YnvVTiIxBL-C"
      }
    },
    {
      "cell_type": "markdown",
      "source": [
        "## ***8.*** ***Future Work (Optional)***"
      ],
      "metadata": {
        "id": "EyNgTHvd2WFk"
      }
    },
    {
      "cell_type": "markdown",
      "source": [
        "### 1. Save the best performing ml model in a pickle file or joblib file format for deployment process.\n"
      ],
      "metadata": {
        "id": "KH5McJBi2d8v"
      }
    },
    {
      "cell_type": "code",
      "source": [
        "# Save the File"
      ],
      "metadata": {
        "id": "bQIANRl32f4J"
      },
      "execution_count": null,
      "outputs": []
    },
    {
      "cell_type": "markdown",
      "source": [
        "### 2. Again Load the saved model file and try to predict unseen data for a sanity check.\n"
      ],
      "metadata": {
        "id": "iW_Lq9qf2h6X"
      }
    },
    {
      "cell_type": "code",
      "source": [
        "# Load the File and predict unseen data."
      ],
      "metadata": {
        "id": "oEXk9ydD2nVC"
      },
      "execution_count": null,
      "outputs": []
    },
    {
      "cell_type": "markdown",
      "source": [
        "### ***Congrats! Your model is successfully created and ready for deployment on a live server for a real user interaction !!!***"
      ],
      "metadata": {
        "id": "-Kee-DAl2viO"
      }
    },
    {
      "cell_type": "markdown",
      "source": [
        "# **Conclusion**"
      ],
      "metadata": {
        "id": "gCX9965dhzqZ"
      }
    },
    {
      "cell_type": "markdown",
      "source": [
        "Write the conclusion here."
      ],
      "metadata": {
        "id": "Fjb1IsQkh3yE"
      }
    },
    {
      "cell_type": "markdown",
      "source": [
        "### ***Hurrah! You have successfully completed your Machine Learning Capstone Project !!!***"
      ],
      "metadata": {
        "id": "gIfDvo9L0UH2"
      }
    }
  ]
}